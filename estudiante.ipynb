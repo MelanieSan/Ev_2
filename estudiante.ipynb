{
 "cells": [
  {
   "cell_type": "code",
   "execution_count": null,
   "id": "178118ed-bda2-4b3b-ae99-3027834939be",
   "metadata": {},
   "outputs": [],
   "source": [
    "\n",
    "class Estudiante:\n",
    "    def __init__(self, nombre, edad, calificacion):\n",
    "        self.nombre = nombre\n",
    "        self.edad = edad\n",
    "        self.__calificacion = calificacion \n",
    "    @property\n",
    "    def calificacion(self):\n",
    "        return self.__calificacion\n",
    "\n",
    "\n",
    "    def mostrar_informacion(self):\n",
    "        print(f\"Nombre: {self.nombre}\")\n",
    "        print(f\"Edad: {self.edad} años\")\n",
    "        print(f\"Calificación: {self.calificacion}\")\n",
    "\n",
    "   \n",
    "    def actualizar_calificacion(self, nueva_calificacion):\n",
    "        if 0 <= nueva_calificacion <= 100:\n",
    "            self.__calificacion = nueva_calificacion\n",
    "            print(\"Calificación actualizada con éxito.\")\n",
    "        else:\n",
    "            print(\"La calificación debe estar en el rango de 0 a 100.\")\n",
    "\n",
    "\n",
    "estudiante1 = Estudiante(nombre=\"Juan\", edad=20, calificacion=85)\n",
    "\n",
    "\n",
    "print(\"Información del Estudiante:\")\n",
    "estudiante1.mostrar_informacion()\n",
    "\n",
    "\n",
    "print(f\"Calificación del estudiante: {estudiante1.calificacion}\")\n",
    "\n",
    "# Actualizar la calificación\n",
    "estudiante1.actualizar_calificacion(90)\n",
    "\n",
    "# Mostrar la información actualizada del estudiante\n",
    "print(\"\\nInformación actualizada del Estudiante:\")\n",
    "estudiante1.mostrar_informacion()\n"
   ]
  }
 ],
 "metadata": {
  "kernelspec": {
   "display_name": "anaconda-panel-2023.05-py310",
   "language": "python",
   "name": "conda-env-anaconda-panel-2023.05-py310-py"
  },
  "language_info": {
   "codemirror_mode": {
    "name": "ipython",
    "version": 3
   },
   "file_extension": ".py",
   "mimetype": "text/x-python",
   "name": "python",
   "nbconvert_exporter": "python",
   "pygments_lexer": "ipython3",
   "version": "3.11.5"
  }
 },
 "nbformat": 4,
 "nbformat_minor": 5
}
